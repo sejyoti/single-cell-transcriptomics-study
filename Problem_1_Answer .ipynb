{
 "cells": [
  {
   "cell_type": "code",
   "execution_count": 11,
   "metadata": {
    "colab": {
     "base_uri": "https://localhost:8080/"
    },
    "id": "Q1Wga_kkak_u",
    "outputId": "52f2cc0a-2346-4894-c1c6-559114806d1e"
   },
   "outputs": [
    {
     "name": "stderr",
     "output_type": "stream",
     "text": [
      "<ipython-input-11-e3744508f7d1>:11: FutureWarning: The default value of regex will change from True to False in a future version. In addition, single character regular expressions will *not* be treated as literal strings when regex=True.\n",
      "  df.columns = df.columns.str.replace('.', '_')\n",
      "<ipython-input-11-e3744508f7d1>:11: FutureWarning: The default value of regex will change from True to False in a future version. In addition, single character regular expressions will *not* be treated as literal strings when regex=True.\n",
      "  df.columns = df.columns.str.replace('.', '_')\n",
      "<ipython-input-11-e3744508f7d1>:11: FutureWarning: The default value of regex will change from True to False in a future version. In addition, single character regular expressions will *not* be treated as literal strings when regex=True.\n",
      "  df.columns = df.columns.str.replace('.', '_')\n",
      "<ipython-input-11-e3744508f7d1>:11: FutureWarning: The default value of regex will change from True to False in a future version. In addition, single character regular expressions will *not* be treated as literal strings when regex=True.\n",
      "  df.columns = df.columns.str.replace('.', '_')\n",
      "<ipython-input-11-e3744508f7d1>:11: FutureWarning: The default value of regex will change from True to False in a future version. In addition, single character regular expressions will *not* be treated as literal strings when regex=True.\n",
      "  df.columns = df.columns.str.replace('.', '_')\n",
      "<ipython-input-11-e3744508f7d1>:11: FutureWarning: The default value of regex will change from True to False in a future version. In addition, single character regular expressions will *not* be treated as literal strings when regex=True.\n",
      "  df.columns = df.columns.str.replace('.', '_')\n"
     ]
    },
    {
     "name": "stdout",
     "output_type": "stream",
     "text": [
      "Cleaned CSV files exported\n"
     ]
    }
   ],
   "source": [
    "import pandas as pd\n",
    "import os\n",
    "\n",
    "files = [f for f in os.listdir('/content') if f.endswith('.txt')]\n",
    "\n",
    "for file in files:\n",
    "\n",
    "  df = pd.read_csv(file, sep='\\t', index_col=0)\n",
    "\n",
    "  # Clean up\n",
    "  df.columns = df.columns.str.replace('.', '_')\n",
    "  df.index.name = 'Gene'\n",
    "  df.columns.name = 'Cell ID'\n",
    "\n",
    "  # Export CSV\n",
    "  csv_name = f'cleaned_{os.path.splitext(file)[0]}.csv'\n",
    "  df.to_csv(csv_name)\n",
    "\n",
    "print(\"Cleaned CSV files exported\")"
   ]
  },
  {
   "cell_type": "markdown",
   "metadata": {
    "id": "_-I1G8YOdLCd"
   },
   "source": [
    "# Documentation for task 1\n",
    "\n",
    " Here is documentation for the task of cleaning and exporting gene expression text files as CSVs:\n",
    "\n",
    "# Clean and Export Gene Expression Data\n",
    "\n",
    "This script processes raw gene expression text files and exports cleaned CSV versions.\n",
    "\n",
    "## Usage\n",
    "\n",
    "The script expects raw text files (.txt) containing gene expression data in the input directory. It will:\n",
    "\n",
    "- Read in each text file\n",
    "- Clean the DataFrame\n",
    "  - Replace column periods with underscores\n",
    "  - Set index name to 'Gene'\n",
    "  - Set column name to 'Cell ID'\n",
    "- Export cleaned data to a CSV file  \n",
    "\n",
    "## Code Overview\n",
    "\n",
    "- Use os.listdir() to get list of .txt files\n",
    "- Loop through each file\n",
    "  - Read in file using pandas\n",
    "  - Clean DataFrame\n",
    "  - Construct output CSV filename\n",
    "  - Export DataFrame to CSV\n",
    "\n",
    "## Input File Format\n",
    "\n",
    "Input files must be tab-delimited text files with:\n",
    "\n",
    "- Gene names in the first column\n",
    "- Cell expression values in following columns\n",
    "- No header row\n",
    "\n",
    "## Output\n",
    "\n",
    "The script exports cleaned CSV versions of the input files.\n",
    "\n",
    "- Replaces periods in column names with underscores\n",
    "- Adds 'Gene' as index name  \n",
    "- Adds 'Cell ID' as column name\n",
    "- Removes .txt from file name and adds .csv extension\n",
    "\n",
    "## Requirements\n",
    "\n",
    "- pandas\n",
    "- os\n",
    "\n",
    "Let me know if this documentation covers the key points or if you would like me to expand on any part!"
   ]
  }
 ],
 "metadata": {
  "colab": {
   "provenance": [],
   "toc_visible": true
  },
  "kernelspec": {
   "display_name": "Python 3 (ipykernel)",
   "language": "python",
   "name": "python3"
  },
  "language_info": {
   "codemirror_mode": {
    "name": "ipython",
    "version": 3
   },
   "file_extension": ".py",
   "mimetype": "text/x-python",
   "name": "python",
   "nbconvert_exporter": "python",
   "pygments_lexer": "ipython3",
   "version": "3.11.6"
  }
 },
 "nbformat": 4,
 "nbformat_minor": 1
}
